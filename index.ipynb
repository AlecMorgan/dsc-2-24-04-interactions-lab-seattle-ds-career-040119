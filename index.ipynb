{
 "cells": [
  {
   "cell_type": "markdown",
   "metadata": {},
   "source": [
    "# Interactions - Lab"
   ]
  },
  {
   "cell_type": "markdown",
   "metadata": {},
   "source": [
    "## Introduction"
   ]
  },
  {
   "cell_type": "markdown",
   "metadata": {},
   "source": [
    "In this lab, you'll explore interactions in the Boston Housing data set."
   ]
  },
  {
   "cell_type": "markdown",
   "metadata": {},
   "source": [
    "## Objectives"
   ]
  },
  {
   "cell_type": "markdown",
   "metadata": {},
   "source": [
    "You will be able to:\n",
    "- Understand what interactions are\n",
    "- Understand how to accommodate for interactions in regression"
   ]
  },
  {
   "cell_type": "markdown",
   "metadata": {},
   "source": [
    "## Build a baseline model "
   ]
  },
  {
   "cell_type": "markdown",
   "metadata": {},
   "source": [
    "You'll use a couple of built-in functions, which we imported for you below."
   ]
  },
  {
   "cell_type": "code",
   "execution_count": 1,
   "metadata": {},
   "outputs": [],
   "source": [
    "from sklearn.linear_model import LinearRegression\n",
    "from sklearn.model_selection import cross_val_score\n",
    "from sklearn.model_selection import KFold\n",
    "from sklearn.datasets import load_boston\n",
    "import pandas as pd\n",
    "import numpy as np\n",
    "import matplotlib.pyplot as plt\n",
    "import json"
   ]
  },
  {
   "cell_type": "markdown",
   "metadata": {},
   "source": [
    "Import the Boston data set using `load_boston()`. We won't bother to preprocess the data in this lab. If you still want to build a model in the end, you can do that, but this lab will just focus on finding meaningful insights in interactions and how they can improve $R^2$ values."
   ]
  },
  {
   "cell_type": "code",
   "execution_count": 2,
   "metadata": {},
   "outputs": [],
   "source": [
    "regression = LinearRegression()\n",
    "boston = load_boston()"
   ]
  },
  {
   "cell_type": "markdown",
   "metadata": {},
   "source": [
    "Create a baseline model which includes all the variables in the Boston housing data set to predict the house prices. The use 10-fold cross-validation and report the mean $R^2$ value as the baseline $R^2$."
   ]
  },
  {
   "cell_type": "code",
   "execution_count": 3,
   "metadata": {},
   "outputs": [],
   "source": [
    "y = pd.DataFrame(boston.target, columns=['target'])\n",
    "X = pd.DataFrame(boston.data, columns=boston.feature_names)\n",
    "data = pd.concat([y, X], axis=1)"
   ]
  },
  {
   "cell_type": "code",
   "execution_count": 7,
   "metadata": {},
   "outputs": [
    {
     "data": {
      "text/plain": [
       "0.7190106820189475"
      ]
     },
     "execution_count": 7,
     "metadata": {},
     "output_type": "execute_result"
    }
   ],
   "source": [
    "cv = KFold(n_splits=10, shuffle=True, random_state=1)\n",
    "baseline = np.mean(cross_val_score(regression, X, y, scoring=\"r2\", cv=cv))\n",
    "baseline"
   ]
  },
  {
   "cell_type": "markdown",
   "metadata": {},
   "source": [
    "## See how interactions improve your baseline"
   ]
  },
  {
   "cell_type": "markdown",
   "metadata": {},
   "source": [
    "Next, create all possible combinations of interactions, loop over them and add them to the baseline model one by one to see how they affect the R^2. We'll look at the 3 interactions which have the biggest effect on our R^2, so print out the top 3 combinations.\n",
    "\n",
    "You will create a for loop to loop through all the combinations of 2 predictors. You can use `combinations` from itertools to create a list of all the pairwise combinations. To find more info on how this is done, have a look [here](https://docs.python.org/2/library/itertools.html)."
   ]
  },
  {
   "cell_type": "code",
   "execution_count": 5,
   "metadata": {},
   "outputs": [],
   "source": [
    "from itertools import combinations\n",
    "combinations = list(combinations(boston.feature_names, 2))"
   ]
  },
  {
   "cell_type": "code",
   "execution_count": 8,
   "metadata": {},
   "outputs": [
    {
     "data": {
      "text/plain": [
       "{'score': 0.22109803800764474, 'combination': ('CRIM', 'ZN')}"
      ]
     },
     "execution_count": 8,
     "metadata": {},
     "output_type": "execute_result"
    }
   ],
   "source": [
    "## code to find top 3 interactions by R^2 value here\n",
    "comb_scores = []\n",
    "for combination in combinations:\n",
    "    # comb_score = mean R^2 value from cross validation test runs\n",
    "    comb_score = np.mean(cross_val_score(regression, X[list(combination)], y, scoring=\"r2\", cv=cv))\n",
    "    comb_scores.append({'score': comb_score, 'combination': combination})\n",
    "    \n",
    "comb_scores[0]"
   ]
  },
  {
   "cell_type": "code",
   "execution_count": 12,
   "metadata": {},
   "outputs": [
    {
     "data": {
      "text/plain": [
       "[{'score': 0.07315287063031399, 'combination': ('CHAS', 'DIS')},\n",
       " {'score': 0.10372229759051114, 'combination': ('CHAS', 'B')},\n",
       " {'score': 0.108650070259969, 'combination': ('ZN', 'DIS')},\n",
       " {'score': 0.12006325087303202, 'combination': ('DIS', 'B')},\n",
       " {'score': 0.1360080778439342, 'combination': ('AGE', 'DIS')},\n",
       " {'score': 0.13885784425014605, 'combination': ('ZN', 'CHAS')},\n",
       " {'score': 0.14204312222476245, 'combination': ('DIS', 'RAD')},\n",
       " {'score': 0.1452813960362018, 'combination': ('CRIM', 'CHAS')},\n",
       " {'score': 0.14847789627744845, 'combination': ('CRIM', 'DIS')},\n",
       " {'score': 0.15900077492464254, 'combination': ('CHAS', 'RAD')},\n",
       " {'score': 0.16062057713937467, 'combination': ('ZN', 'AGE')},\n",
       " {'score': 0.17069091592865057, 'combination': ('CHAS', 'AGE')},\n",
       " {'score': 0.1707770423922817, 'combination': ('CRIM', 'B')},\n",
       " {'score': 0.17214482625402336, 'combination': ('RAD', 'B')},\n",
       " {'score': 0.17394606907594112, 'combination': ('CRIM', 'RAD')},\n",
       " {'score': 0.18545603288526738, 'combination': ('NOX', 'AGE')},\n",
       " {'score': 0.18900858759451383, 'combination': ('NOX', 'DIS')},\n",
       " {'score': 0.1892513672790795, 'combination': ('ZN', 'B')},\n",
       " {'score': 0.19317467058121732, 'combination': ('AGE', 'B')},\n",
       " {'score': 0.19592030732248022, 'combination': ('AGE', 'RAD')},\n",
       " {'score': 0.19887472035263704, 'combination': ('ZN', 'NOX')},\n",
       " {'score': 0.20156366719297475, 'combination': ('ZN', 'RAD')},\n",
       " {'score': 0.20393061304454366, 'combination': ('NOX', 'RAD')},\n",
       " {'score': 0.21069312984390498, 'combination': ('NOX', 'B')},\n",
       " {'score': 0.21233579383487525, 'combination': ('CRIM', 'AGE')},\n",
       " {'score': 0.21372116669671026, 'combination': ('DIS', 'TAX')},\n",
       " {'score': 0.21587404599262272, 'combination': ('CHAS', 'NOX')},\n",
       " {'score': 0.22109803800764474, 'combination': ('CRIM', 'ZN')},\n",
       " {'score': 0.2274594850630897, 'combination': ('RAD', 'TAX')},\n",
       " {'score': 0.23151369919968934, 'combination': ('CHAS', 'TAX')},\n",
       " {'score': 0.23451627013906653, 'combination': ('CRIM', 'NOX')},\n",
       " {'score': 0.23530107967992495, 'combination': ('TAX', 'B')},\n",
       " {'score': 0.23563808173802814, 'combination': ('INDUS', 'AGE')},\n",
       " {'score': 0.23664825659211414, 'combination': ('CRIM', 'TAX')},\n",
       " {'score': 0.2372927830673545, 'combination': ('INDUS', 'NOX')},\n",
       " {'score': 0.24049596753654257, 'combination': ('ZN', 'INDUS')},\n",
       " {'score': 0.2414202732417939, 'combination': ('NOX', 'TAX')},\n",
       " {'score': 0.24400926699636286, 'combination': ('AGE', 'TAX')},\n",
       " {'score': 0.24430782244541022, 'combination': ('INDUS', 'RAD')},\n",
       " {'score': 0.24442419193418416, 'combination': ('INDUS', 'DIS')},\n",
       " {'score': 0.2509786580523743, 'combination': ('CHAS', 'PTRATIO')},\n",
       " {'score': 0.2597794069860255, 'combination': ('INDUS', 'B')},\n",
       " {'score': 0.2623283889166268, 'combination': ('INDUS', 'TAX')},\n",
       " {'score': 0.2640828026338875, 'combination': ('INDUS', 'CHAS')},\n",
       " {'score': 0.26641182466248303, 'combination': ('ZN', 'TAX')},\n",
       " {'score': 0.2680714851808122, 'combination': ('DIS', 'PTRATIO')},\n",
       " {'score': 0.2764175623186706, 'combination': ('CRIM', 'INDUS')},\n",
       " {'score': 0.2796182901838299, 'combination': ('ZN', 'PTRATIO')},\n",
       " {'score': 0.2796507689091984, 'combination': ('RAD', 'PTRATIO')},\n",
       " {'score': 0.3114559367155393, 'combination': ('PTRATIO', 'B')},\n",
       " {'score': 0.31618823004484364, 'combination': ('CRIM', 'PTRATIO')},\n",
       " {'score': 0.32176194052859974, 'combination': ('AGE', 'PTRATIO')},\n",
       " {'score': 0.32491399113104835, 'combination': ('TAX', 'PTRATIO')},\n",
       " {'score': 0.3545198343955139, 'combination': ('INDUS', 'PTRATIO')},\n",
       " {'score': 0.37334208193399765, 'combination': ('NOX', 'PTRATIO')},\n",
       " {'score': 0.4811813632890489, 'combination': ('CHAS', 'RM')},\n",
       " {'score': 0.48652621267984053, 'combination': ('RM', 'DIS')},\n",
       " {'score': 0.4977275576064951, 'combination': ('ZN', 'RM')},\n",
       " {'score': 0.5258942824475286, 'combination': ('RM', 'AGE')},\n",
       " {'score': 0.5280952832055175, 'combination': ('NOX', 'LSTAT')},\n",
       " {'score': 0.5319056903668885, 'combination': ('NOX', 'RM')},\n",
       " {'score': 0.5326298730765844, 'combination': ('RAD', 'LSTAT')},\n",
       " {'score': 0.5339037633428384, 'combination': ('INDUS', 'LSTAT')},\n",
       " {'score': 0.534287456264601, 'combination': ('AGE', 'LSTAT')},\n",
       " {'score': 0.5344633019507182, 'combination': ('CRIM', 'RM')},\n",
       " {'score': 0.5344991117871002, 'combination': ('RM', 'B')},\n",
       " {'score': 0.5346279638435427, 'combination': ('INDUS', 'RM')},\n",
       " {'score': 0.5365029417094491, 'combination': ('CRIM', 'LSTAT')},\n",
       " {'score': 0.5366522928888764, 'combination': ('ZN', 'LSTAT')},\n",
       " {'score': 0.5384919495845536, 'combination': ('B', 'LSTAT')},\n",
       " {'score': 0.5401281920300823, 'combination': ('TAX', 'LSTAT')},\n",
       " {'score': 0.5412112073470327, 'combination': ('RM', 'RAD')},\n",
       " {'score': 0.5424991396802938, 'combination': ('DIS', 'LSTAT')},\n",
       " {'score': 0.5490574472106453, 'combination': ('CHAS', 'LSTAT')},\n",
       " {'score': 0.5573255625782516, 'combination': ('RM', 'PTRATIO')},\n",
       " {'score': 0.5630518787358788, 'combination': ('RM', 'TAX')},\n",
       " {'score': 0.6009882608680119, 'combination': ('PTRATIO', 'LSTAT')},\n",
       " {'score': 0.6249734778062676, 'combination': ('RM', 'LSTAT')}]"
      ]
     },
     "execution_count": 12,
     "metadata": {},
     "output_type": "execute_result"
    }
   ],
   "source": [
    "sorted(comb_scores, key=lambda x: x['score'], o)"
   ]
  },
  {
   "cell_type": "markdown",
   "metadata": {},
   "source": [
    "## Look at the top 3 interactions: \"RM\" as a confounding factor"
   ]
  },
  {
   "cell_type": "markdown",
   "metadata": {},
   "source": [
    "The top three interactions seem to involve \"RM\", the number of rooms as a confounding variable for all of them. Let's have a look at interaction plots for all three of them. This exercise will involve:\n",
    "\n",
    "- splitting our data up in 3 groups: one for houses with a few rooms, one for houses with a \"medium\" amount of rooms, one for a high amount of rooms.\n",
    "- Create a function `build_interaction_rm`. This function takes an argument `varname` (which can be set equal to the column name as a string) and a column `description` (which describes the variable or varname, to be included on the x-axis of the plot). The function outputs a plot that uses \"RM\" as a confounding factor. "
   ]
  },
  {
   "cell_type": "markdown",
   "metadata": {},
   "source": [
    "We split the data set for high, medium and low amount of rooms for you."
   ]
  },
  {
   "cell_type": "code",
   "execution_count": null,
   "metadata": {},
   "outputs": [],
   "source": [
    "rm = np.asarray(df[[\"RM\"]]).reshape(len(df[[\"RM\"]]))"
   ]
  },
  {
   "cell_type": "code",
   "execution_count": null,
   "metadata": {},
   "outputs": [],
   "source": [
    "high_rm = all_data[rm > np.percentile(rm, 67)]\n",
    "med_rm = all_data[(rm > np.percentile(rm, 33)) & (rm <= np.percentile(rm, 67))]\n",
    "low_rm = all_data[rm <= np.percentile(rm, 33)]"
   ]
  },
  {
   "cell_type": "markdown",
   "metadata": {},
   "source": [
    "Create `build_interaction_rm`."
   ]
  },
  {
   "cell_type": "code",
   "execution_count": null,
   "metadata": {},
   "outputs": [],
   "source": [
    "def build_interaction_rm(varname, description):\n",
    "    pass"
   ]
  },
  {
   "cell_type": "markdown",
   "metadata": {},
   "source": [
    "Next, use build_interaction_rm with the three variables that came out with the highest effect on $R^2$"
   ]
  },
  {
   "cell_type": "code",
   "execution_count": null,
   "metadata": {},
   "outputs": [],
   "source": [
    "# first plot"
   ]
  },
  {
   "cell_type": "code",
   "execution_count": null,
   "metadata": {},
   "outputs": [],
   "source": [
    "# second plot"
   ]
  },
  {
   "cell_type": "code",
   "execution_count": null,
   "metadata": {},
   "outputs": [],
   "source": [
    "# third plot"
   ]
  },
  {
   "cell_type": "markdown",
   "metadata": {},
   "source": [
    "## Build a final model including all three interactions at once"
   ]
  },
  {
   "cell_type": "markdown",
   "metadata": {},
   "source": [
    "Use 10-fold crossvalidation."
   ]
  },
  {
   "cell_type": "code",
   "execution_count": null,
   "metadata": {},
   "outputs": [],
   "source": [
    "# code here"
   ]
  },
  {
   "cell_type": "code",
   "execution_count": null,
   "metadata": {},
   "outputs": [],
   "source": [
    "# code here"
   ]
  },
  {
   "cell_type": "markdown",
   "metadata": {},
   "source": [
    "Our $R^2$ has increased considerably! Let's have a look in statsmodels to see if all these interactions are significant."
   ]
  },
  {
   "cell_type": "code",
   "execution_count": null,
   "metadata": {},
   "outputs": [],
   "source": [
    "# code here"
   ]
  },
  {
   "cell_type": "markdown",
   "metadata": {},
   "source": [
    "What is your conclusion here?"
   ]
  },
  {
   "cell_type": "code",
   "execution_count": null,
   "metadata": {},
   "outputs": [],
   "source": [
    "# formulate your conclusion"
   ]
  },
  {
   "cell_type": "markdown",
   "metadata": {},
   "source": [
    "## Summary"
   ]
  },
  {
   "cell_type": "markdown",
   "metadata": {},
   "source": [
    "You now understand how to include interaction effects in your model!"
   ]
  }
 ],
 "metadata": {
  "kernelspec": {
   "display_name": "Python 3",
   "language": "python",
   "name": "python3"
  },
  "language_info": {
   "codemirror_mode": {
    "name": "ipython",
    "version": 3
   },
   "file_extension": ".py",
   "mimetype": "text/x-python",
   "name": "python",
   "nbconvert_exporter": "python",
   "pygments_lexer": "ipython3",
   "version": "3.6.6"
  }
 },
 "nbformat": 4,
 "nbformat_minor": 2
}
